{
  "nbformat": 4,
  "nbformat_minor": 0,
  "metadata": {
    "colab": {
      "private_outputs": true,
      "provenance": [],
      "authorship_tag": "ABX9TyP/lj+alKdew6mRSoh2abQl"
    },
    "kernelspec": {
      "name": "python3",
      "display_name": "Python 3"
    },
    "language_info": {
      "name": "python"
    }
  },
  "cells": [
    {
      "cell_type": "markdown",
      "source": [
        "<처음 코드가 수행이 안되었던 이유! >\n",
        "\n",
        "\n",
        "(1) `Font not found ` \n",
        "* 운영체제에도 해당 폰트가 있어야 한다.\n",
        "* 권한 문제로 수정이 안 되는 경우 matplotlibrc 파일 속성에서 사용 권한 수정\n",
        "* ref) https://jinyes-tistory.tistory.com/70\n"
      ],
      "metadata": {
        "id": "GlLQr6Qw1dSd"
      }
    },
    {
      "cell_type": "code",
      "execution_count": null,
      "metadata": {
        "id": "xzwg4ID_wXdH"
      },
      "outputs": [],
      "source": [
        "import pandas as pd\n",
        "import numpy as np\n",
        "import seaborn as sns\n",
        "import folium"
      ]
    },
    {
      "cell_type": "code",
      "source": [
        "import matplotlib.pyplot as plt\n",
        "plt.rc('font', family='NanumBarunGothic')\n",
        "plt.rc('axes', unicode_minus=False)\n",
        "\n",
        "# 그래프에서 폰트가 안보이는 경우\n",
        "#matplotlib.font_manager._rebuild()\n",
        "\n",
        "%matplotlib inline\n",
        "\n",
        "from IPython.display import set_matplotlib_formats\n",
        "\n",
        "# ipython 7.23 이후 set_matplotlib_formats 함수가 사라짐\n",
        "%config InlineBackend.figure_format = 'retina'"
      ],
      "metadata": {
        "id": "7myoA4HHwaZy"
      },
      "execution_count": null,
      "outputs": []
    },
    {
      "cell_type": "code",
      "source": [
        "!sudo apt-get install -y fonts-nanum\n",
        "!sudo fc-cache -fv\n",
        "!rm ~/.cache/matplotlib -rf"
      ],
      "metadata": {
        "id": "9C5oETDKwb3e"
      },
      "execution_count": null,
      "outputs": []
    },
    {
      "cell_type": "code",
      "source": [
        "# gdrive에서 파일 불러오기\n",
        "from google.colab import drive\n",
        "drive.mount('/gdrive', force_remount=True)"
      ],
      "metadata": {
        "id": "FxdxuYB6wdqq"
      },
      "execution_count": null,
      "outputs": []
    },
    {
      "cell_type": "code",
      "source": [
        "from google.colab import drive\n",
        "drive.mount('/content/drive')"
      ],
      "metadata": {
        "id": "xmwkfdh-wffR"
      },
      "execution_count": null,
      "outputs": []
    },
    {
      "cell_type": "code",
      "source": [
        "df = pd.read_csv('/content/drive/MyDrive/data/med_201909.csv', encoding = 'utf-8')\n",
        "df.shape\n"
      ],
      "metadata": {
        "id": "88BuswH3wk20"
      },
      "execution_count": null,
      "outputs": []
    },
    {
      "cell_type": "code",
      "source": [],
      "metadata": {
        "id": "skZ07TCGIZbu"
      },
      "execution_count": null,
      "outputs": []
    },
    {
      "cell_type": "code",
      "source": [
        "df.head(1)"
      ],
      "metadata": {
        "id": "MhVQjNDzwnIk"
      },
      "execution_count": null,
      "outputs": []
    },
    {
      "cell_type": "markdown",
      "source": [
        "# Q1 전국 시도별 약국 수\n",
        "\n",
        "* 상권업종소분류명이 약국인 것을 찾아 빈도수를 구해주세요.\n",
        "* value_counts, groupby, pivot_table 등 다양한 집계 방법 사용"
      ],
      "metadata": {
        "id": "vKK6SLsuwqz7"
      }
    },
    {
      "cell_type": "code",
      "source": [
        "df[df['상권업종소분류명']=='약국']['시도명'].value_counts()"
      ],
      "metadata": {
        "id": "YTwMxabDws69"
      },
      "execution_count": null,
      "outputs": []
    },
    {
      "cell_type": "markdown",
      "source": [
        "## Q2 동물병원도 병원이나 약국이 많은 곳에 더 많이 있을까?"
      ],
      "metadata": {
        "id": "lzSb4MyqxHXy"
      }
    },
    {
      "cell_type": "code",
      "source": [
        "df_animal = df[df['상권업종소분류명']=='동물병원']['시도명'].value_counts()\n",
        "df_animal"
      ],
      "metadata": {
        "id": "imfDjzm6xBk7"
      },
      "execution_count": null,
      "outputs": []
    },
    {
      "cell_type": "code",
      "source": [
        "df_animal.plot.barh(figsize=(9,8),grid=True)\n",
        "plt.show()"
      ],
      "metadata": {
        "id": "xbBgf3Nqxcdl"
      },
      "execution_count": null,
      "outputs": []
    },
    {
      "cell_type": "markdown",
      "source": [
        "## Q3 해당 지역에 피부과나 성형외과가 다른 지역에 비해 전체 병원 수 대비 어느 정도 비율 차지하고 있는지?\n",
        "\n",
        "* ['상권업종소분류명'] 중 \"피부\" 나 \"성형\"이 들어간 분류명 찾아보기 \n",
        "* 피부과 성형외과 수 / 전체 병원 수 비율\n",
        "* 비율이 높은 순서대로\n",
        "* 소수점 두 번째 자리까지 출력하는 방법 : pandas round "
      ],
      "metadata": {
        "id": "ZCEVvRUzzf2N"
      }
    },
    {
      "cell_type": "code",
      "source": [
        "# 서울특별시에 있는 병원 색인 => 서울특별시 & 병원\n",
        "df_seoul_med = df[(df[\"시도명\"]==\"서울특별시\") & (df[\"상권업종중분류명\"]==\"병원\")].copy()\n",
        "\n",
        "# 서울특별시 병원 중 '피부', '성형' 들어간 분류명\n",
        "df_seoul_med_sur=df_seoul_med[df_seoul_med[\"상권업종소분류명\"].str.contains(\"피부|성형\")].copy()\n",
        "\n",
        "# 피부과+성형외과 / 전체병원\n",
        "rat = df_seoul_med_sur[\"시군구명\"].value_counts()/df_seoul_med[\"시군구명\"].value_counts()\n",
        "\n",
        "# 소수점 둘째자리까지 출력 -> \n",
        "# (1) sort_values() 사용하여 비율이 높은 순서 정렬 -> ascending=False\n",
        "# (2) pandas round 사용\n",
        "rat.sort_values(ascending=False).round(2)"
      ],
      "metadata": {
        "id": "bR6DsLmXzfdh"
      },
      "execution_count": null,
      "outputs": []
    },
    {
      "cell_type": "markdown",
      "source": [
        "## Q4. 지도 시각화 -> '노인/치매병원'이 주로 어디에 위치하고 있는지!\n",
        "* folium 사용하여 전국의 '노인/치매병원' 표시"
      ],
      "metadata": {
        "id": "ibK7KjTF13Af"
      }
    },
    {
      "cell_type": "code",
      "source": [
        "# folium 설치\n",
        "!pip install --target=$my_path folium"
      ],
      "metadata": {
        "id": "PzVtGto212wp"
      },
      "execution_count": null,
      "outputs": []
    },
    {
      "cell_type": "code",
      "source": [
        "import folium"
      ],
      "metadata": {
        "id": "CKcgXXSGyDBs"
      },
      "execution_count": null,
      "outputs": []
    },
    {
      "cell_type": "code",
      "source": [
        "silver = df[df['상권업종소분류명']=='노인/치매병원']\n",
        "map = folium.Map(location=[silver[\"위도\"].mean(),silver[\"경도\"].mean()], \n",
        "                 zoom_start=12, tiles='Stamen Terrain',\n",
        "                 scrollWheelZoom=False)\n",
        "\n",
        "for n in silver.index:\n",
        "    name = silver.loc[n, \"상호명\"]\n",
        "    address = silver.loc[n, \"도로명주소\"]\n",
        "    popup = f\"{name}-{address}\"\n",
        "    location = [silver.loc[n, \"위도\"], silver.loc[n, \"경도\"]]\n",
        "    folium.Marker(\n",
        "        location = location,\n",
        "        popup = popup,\n",
        "        icon=folium.Icon(color=\"blue\", icon=\"bookmark\")\n",
        "    ).add_to(map)\n",
        "map\n"
      ],
      "metadata": {
        "id": "m2inId8p24gP"
      },
      "execution_count": null,
      "outputs": []
    },
    {
      "cell_type": "code",
      "source": [],
      "metadata": {
        "id": "gGcBluEx2-DV"
      },
      "execution_count": null,
      "outputs": []
    }
  ]
}