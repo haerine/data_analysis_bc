{
  "nbformat": 4,
  "nbformat_minor": 0,
  "metadata": {
    "colab": {
      "private_outputs": true,
      "provenance": [],
      "authorship_tag": "ABX9TyPmV/64y6zzaldOYfvGaDDi"
    },
    "kernelspec": {
      "name": "python3",
      "display_name": "Python 3"
    },
    "language_info": {
      "name": "python"
    }
  },
  "cells": [
    {
      "cell_type": "markdown",
      "source": [
        "### 1. 음주 여부에 따라 건강검진 수치 차이가 있을까?\n",
        "\n",
        "### 2. 신장과 허리둘레의 크기는 체중과 상관관계가 있을까?"
      ],
      "metadata": {
        "id": "8tCR7PnpD8H7"
      }
    },
    {
      "cell_type": "markdown",
      "source": [
        "### 3. 라이브러리 로드"
      ],
      "metadata": {
        "id": "zZsyet_VEH9N"
      }
    },
    {
      "cell_type": "code",
      "source": [
        "# 분석에 사용할 pandas, 수치 계산에 사용할 numpy, 시각화에 사용할 seaborn 을 불러옵니다.\n",
        "\n",
        "import pandas as pd\n",
        "import numpy as ny\n",
        "import seaborn as sns\n",
        "import matplotlib.pyplot as plt\n",
        "\n",
        "%matplotlib inline"
      ],
      "metadata": {
        "id": "flcgBh2zEGZG"
      },
      "execution_count": null,
      "outputs": []
    },
    {
      "cell_type": "code",
      "source": [
        "import matplotlib.pyplot as plt\n",
        "plt.rc('font', family='NanumBarunGothic')\n",
        "plt.rc('axes', unicode_minus=False)\n",
        "\n",
        "# 그래프에서 폰트가 안보이는 경우\n",
        "#matplotlib.font_manager._rebuild()\n",
        "\n",
        "%matplotlib inline\n",
        "\n",
        "from IPython.display import set_matplotlib_formats\n",
        "\n",
        "# ipython 7.23 이후 set_matplotlib_formats 함수가 사라짐\n",
        "%config InlineBackend.figure_format = 'retina'"
      ],
      "metadata": {
        "id": "curfzH34j--z"
      },
      "execution_count": null,
      "outputs": []
    },
    {
      "cell_type": "code",
      "source": [
        "!sudo apt-get install -y fonts-nanum\n",
        "!sudo fc-cache -fv\n",
        "!rm ~/.cache/matplotlib -rf"
      ],
      "metadata": {
        "id": "8tH5dcJNiSjL"
      },
      "execution_count": null,
      "outputs": []
    },
    {
      "cell_type": "markdown",
      "source": [
        "### 4. 한글폰트 설정"
      ],
      "metadata": {
        "id": "LhhwXfxnEjt6"
      }
    },
    {
      "cell_type": "code",
      "source": [
        "# Google Colab 사용 시 아래 주석을 풀고 폰트 설정을 합니다. \n",
        "# 나눔고딕 설치\n",
        "\n",
        "!apt -qq -y install fonts-nanum > /dev/null\n",
        "\n",
        "import matplotlib.font_manager as fm\n",
        "fontpath = '/usr/share/fonts/truetype/nanum/NanumBarunGothic.ttf'\n",
        "font = fm.FontProperties(fname=fontpath,size = 9)\n",
        "fm._rebuild()\n",
        "\n",
        "# Colab의 한글 폰트 설정\n",
        "plt.rc('font', family='NanumGothic')\n",
        "# 마이너스 폰트 깨지는 문제에 대한 대처\n",
        "plt.rc(\"axes\", unicode_minus = False)"
      ],
      "metadata": {
        "id": "bN_yIc0wEoc7"
      },
      "execution_count": null,
      "outputs": []
    },
    {
      "cell_type": "code",
      "source": [
        "from IPython.display import set_matplotlib_formats\n",
        "\n",
        "# 레티나 설정을 해주면 글씨가 더 선명하게 보입니다.\n",
        "# 폰트의 주변이 흐릿하게 보이는 것을 방지합니다.\n",
        "# ipython 7.23 이후 set_matplotlib_formats 함수가 사라짐\n",
        "%config InlineBackend.figure_format = 'retina'"
      ],
      "metadata": {
        "id": "N_MUsQWWieXs"
      },
      "execution_count": null,
      "outputs": []
    },
    {
      "cell_type": "code",
      "execution_count": null,
      "metadata": {
        "id": "zwpGhvUKD1Nx"
      },
      "outputs": [],
      "source": [
        "import os\n",
        "\n",
        "# 윈도우, 맥 외의 OS는 별도로 설정\n",
        "if os.name == 'posix':\n",
        "  plt.rc(\"font\", family = \"AppleGothic\")\n",
        "else:\n",
        "  plt.rc()\n",
        "\n",
        "# 마이너스 폰트 깨지는 문제에 대한 대처\n",
        "plt.rc(\"axes\", unicode_minus = False)"
      ]
    },
    {
      "cell_type": "markdown",
      "source": [
        "### 5 데이터 불러오기\n",
        "* 건강검진정보"
      ],
      "metadata": {
        "id": "65RbozpeGbmK"
      }
    },
    {
      "cell_type": "code",
      "source": [
        "# gdrive에서 파일 불러오기\n",
        "from google.colab import drive\n",
        "drive.mount('/gdrive', force_remount=True)"
      ],
      "metadata": {
        "id": "bhDEMiEzHrir"
      },
      "execution_count": null,
      "outputs": []
    },
    {
      "cell_type": "code",
      "source": [
        "from google.colab import drive\n",
        "drive.mount('/content/drive')"
      ],
      "metadata": {
        "id": "SSS7vUmLHtNm"
      },
      "execution_count": null,
      "outputs": []
    },
    {
      "cell_type": "code",
      "source": [
        "df = pd.read_csv(\"/content/drive/MyDrive/data/NHIS_OPEN_GJ_2017.CSV\", encoding=\"cp949\")\n",
        "df.shape"
      ],
      "metadata": {
        "id": "-c_A1HWBHvM3"
      },
      "execution_count": null,
      "outputs": []
    },
    {
      "cell_type": "markdown",
      "source": [
        "#### 5.1 데이터 미리보기"
      ],
      "metadata": {
        "id": "d-MErD73ICxX"
      }
    },
    {
      "cell_type": "code",
      "source": [
        "# sample, head, tail 을 통해 데이터를 미리보기 합니다. \n",
        "df.head()"
      ],
      "metadata": {
        "id": "afmQBPAjGXFf"
      },
      "execution_count": null,
      "outputs": []
    },
    {
      "cell_type": "code",
      "source": [
        "df.tail()"
      ],
      "metadata": {
        "id": "Q71J5xNyJXns"
      },
      "execution_count": null,
      "outputs": []
    },
    {
      "cell_type": "code",
      "source": [
        "# 아무거나 랜덤하게 출력한다.\n",
        "df.sample()"
      ],
      "metadata": {
        "id": "eQ3KbjReJsQG"
      },
      "execution_count": null,
      "outputs": []
    },
    {
      "cell_type": "markdown",
      "source": [
        "### 6 기본정보 보기"
      ],
      "metadata": {
        "id": "Vr_4a0TbJX8d"
      }
    },
    {
      "cell_type": "code",
      "source": [
        "# info 를 통해 데이터의 크기, 형식, 메모리 사용량 등을 봅니다.\n",
        "df.info()"
      ],
      "metadata": {
        "id": "Q7iMZzLbJ0gM"
      },
      "execution_count": null,
      "outputs": []
    },
    {
      "cell_type": "code",
      "source": [
        "# 컬럼의 수가 많습니다. 컬럼만 따로 출력합니다.\n",
        "df.columns"
      ],
      "metadata": {
        "id": "sPeghwfdJ3t8"
      },
      "execution_count": null,
      "outputs": []
    },
    {
      "cell_type": "code",
      "source": [
        "# dtypes 를 통해 데이터 형식만 출력합니다. \n",
        "df.dtypes"
      ],
      "metadata": {
        "id": "J9wotKCpKAlo"
      },
      "execution_count": null,
      "outputs": []
    },
    {
      "cell_type": "markdown",
      "source": [
        "### 7 결측치 보기"
      ],
      "metadata": {
        "id": "jkTRQJRCKSwp"
      }
    },
    {
      "cell_type": "code",
      "source": [
        "True == 1 "
      ],
      "metadata": {
        "id": "Mwt_OIAXhipY"
      },
      "execution_count": null,
      "outputs": []
    },
    {
      "cell_type": "code",
      "source": [
        "# isnull을 통해 결측치를 bool 값으로 표시하고 sum을 하면 컬럼마다의 결측치 수를 세어줍니다.\n",
        "df.isnull().sum()\n",
        "\n",
        "# 결과 -> 치아우식증유무, 결손치유무, 치아마모증유무, 제 3대구치(사랑니)이상"
      ],
      "metadata": {
        "id": "oFIU-rRtKWM-"
      },
      "execution_count": null,
      "outputs": []
    },
    {
      "cell_type": "code",
      "source": [
        "# isna로도 결측치 여부를 확인하고 sum을 통해 결측치 수를 집계할 수 있습니다.\n",
        "df.isna().sum()"
      ],
      "metadata": {
        "id": "qyZISHonhRCf"
      },
      "execution_count": null,
      "outputs": []
    },
    {
      "cell_type": "code",
      "source": [
        "# 판다스에 내장 된 plot을 통해 시각화를 합니다.\n",
        "df.isnull().sum().plot.barh(figsize=(10,9))"
      ],
      "metadata": {
        "id": "ILTFG06QhVbq"
      },
      "execution_count": null,
      "outputs": []
    },
    {
      "cell_type": "markdown",
      "source": [
        "### 8 일부 데이터 요약하기"
      ],
      "metadata": {
        "id": "w3TCLsh6hYTw"
      }
    },
    {
      "cell_type": "code",
      "source": [
        "# 여러 컬럼을 가져옵니다.\n",
        "# \"(혈청지오티)ALT\", \"(혈청지오티)AST\"를 가져와 미리보기 합니다.\n",
        "\n",
        "# 특정 컬럼 미리보기\n",
        "# df[\"(혈청지오티)ALT\", \"(혈청지오티)AST\"] -> 두 개 이상 가져올 때는 리스트로 감싸줌\n",
        "# 두 개의 괄호로 감싸주면 dataframe 형태\n",
        "df[[\"(혈청지오티)ALT\", \"(혈청지오티)AST\"]].head()"
      ],
      "metadata": {
        "id": "OvSKozthhX2g"
      },
      "execution_count": null,
      "outputs": []
    },
    {
      "cell_type": "code",
      "source": [
        "# \"(혈청지오티)ALT\", \"(혈청지오티)AST\"를 요약합니다.\n",
        "# info() / describe()\n",
        "df[[\"(혈청지오티)ALT\", \"(혈청지오티)AST\"]].describe()"
      ],
      "metadata": {
        "id": "3E9_pZnIkjh7"
      },
      "execution_count": null,
      "outputs": []
    },
    {
      "cell_type": "markdown",
      "source": [
        "### 9 value_counts로 값 집계하기"
      ],
      "metadata": {
        "id": "YXjIFocSlTDv"
      }
    },
    {
      "cell_type": "code",
      "source": [
        "# value_count를 통해 성별코드로 그룹화 하고 갯수를 집계합니다.\n",
        "df[\"성별코드\"].value_counts()"
      ],
      "metadata": {
        "id": "28qXr8PGlH4h"
      },
      "execution_count": null,
      "outputs": []
    },
    {
      "cell_type": "code",
      "source": [
        "# value_counts 를 통해 흡연상태로 그룹화 하고 갯수를 집계합니다.\n",
        "df[\"흡연상태\"].value_counts()"
      ],
      "metadata": {
        "id": "Aw0jSSaclpjD"
      },
      "execution_count": null,
      "outputs": []
    },
    {
      "cell_type": "markdown",
      "source": [
        "### 10 groupby와 pivot_table 사용하기"
      ],
      "metadata": {
        "id": "bYEueC3Jl2_J"
      }
    },
    {
      "cell_type": "markdown",
      "source": [
        "#### 10.1 groupby"
      ],
      "metadata": {
        "id": "BFMY71lkl7Rh"
      }
    },
    {
      "cell_type": "code",
      "source": [
        "# groupby를 통해 데이터를 그룹화 합니다.\n",
        "# 성별코드로 그룹화 한 데이터를 세어 봅니다. \n",
        "# df.groupby([\"성별코드\"])[\"가입자일련번호\"].count()\n",
        "df.groupby([\"성별코드\"]).count()"
      ],
      "metadata": {
        "id": "KvuWh5VEl1Cd"
      },
      "execution_count": null,
      "outputs": []
    },
    {
      "cell_type": "code",
      "source": [
        "# 성별코드와 음주여부로 그룹화를 하고 갯수를 세어봅니다.\n",
        "df.groupby([\"성별코드\", \"음주여부\"])[\"가입자일련번호\"].count()"
      ],
      "metadata": {
        "id": "9WX0-CWwmJ7B"
      },
      "execution_count": null,
      "outputs": []
    },
    {
      "cell_type": "code",
      "source": [
        "# 성별코드와 음주여부로 그룹화를 하고 감마지피티의 평균을 구합니다.\n",
        "df.groupby([\"성별코드\", \"음주여부\"])[\"감마지티피\"].mean()"
      ],
      "metadata": {
        "id": "O5-iq82VmL9i"
      },
      "execution_count": null,
      "outputs": []
    },
    {
      "cell_type": "code",
      "source": [
        "# 성별코드와 음주여부로 그룹화를 하고 감마지피티의 요약수치를 구합니다.\n",
        "df.groupby([\"성별코드\",\"음주여부\"])[\"감마지티피\"].describe()"
      ],
      "metadata": {
        "id": "cAYmpHdRmOrO"
      },
      "execution_count": null,
      "outputs": []
    },
    {
      "cell_type": "code",
      "source": [
        "# agg을 사용하면 여러 수치를 함께 구할 수 있습니다. \n",
        "df.groupby([\"성별코드\",\"음주여부\"])[\"감마지티피\"].agg(\n",
        "    [\"count\", \"mean\",\"median\"])"
      ],
      "metadata": {
        "id": "_xeOYesWmR_a"
      },
      "execution_count": null,
      "outputs": []
    },
    {
      "cell_type": "markdown",
      "source": [
        "#### 10.2 Pivot_table\n",
        "\n",
        "* pivot은 연산은 하지 않고, 데이터의 형태만 바꾸고자 할 때.\n",
        "* pivot_table 연산을 하고자 할때"
      ],
      "metadata": {
        "id": "7kNbQTmFn3nZ"
      }
    },
    {
      "cell_type": "code",
      "source": [
        "# 음주 여부에 따른 그룹화된 수를 피봇테이블로 구합니다.\n",
        "# 데이터프레임으로 결과 출력이 된다.\n",
        "df.pivot_table(index=\"음주여부\", values=\"가입자일련번호\", aggfunc = \"count\")"
      ],
      "metadata": {
        "id": "R1b0M4uwn5VN"
      },
      "execution_count": null,
      "outputs": []
    },
    {
      "cell_type": "code",
      "source": [
        "# 음주 여부에 따른 감마지티피의 평균을 구합니다.\n",
        "pd.pivot_table(df, index=\"음주여부\", values=\"감마지티피\")\n",
        "# df.pivot_table(index=\"음주여부\", values=\"감마지티피\",aggfunc=\"mean\")"
      ],
      "metadata": {
        "id": "miF_UZIqofUr"
      },
      "execution_count": null,
      "outputs": []
    },
    {
      "cell_type": "code",
      "source": [
        "# 기본값은 평균을 구하지만 aggfunc을 통해 지정해 줄 수도 있습니다.\n",
        "pd.pivot_table(df, index =\"음주여부\", values=\"감마지티피\", aggfunc=\"mean\")"
      ],
      "metadata": {
        "id": "SAFFQWjwoftX"
      },
      "execution_count": null,
      "outputs": []
    },
    {
      "cell_type": "code",
      "source": [
        "# aggfunc에 여러 값을 한번에 지정할 수도 있습니다.\n",
        "pd.pivot_table(df, index =\"음주여부\", values=\"감마지티피\", \n",
        "               aggfunc=[\"mean\",\"median\"])"
      ],
      "metadata": {
        "id": "o4f99WbEof8N"
      },
      "execution_count": null,
      "outputs": []
    },
    {
      "cell_type": "code",
      "source": [
        "# aggfunc에 describe를 사용해 통계요약값을 한번에 볼 수도 있습니다.\n",
        "pd.pivot_table(df, index=\"음주여부\", values=\"감마지티피\",\n",
        "               aggfunc=\"describe\")"
      ],
      "metadata": {
        "id": "ZdLeysyLo42x"
      },
      "execution_count": null,
      "outputs": []
    },
    {
      "cell_type": "code",
      "source": [
        "# 성별코드, 음주여부에 따른 감마지티피 값의 평균을 구합니다. \n",
        "pd.pivot_table(df, index=[\"성별코드\", \"음주여부\"], values=\"감마지티피\",\n",
        "               aggfunc=\"mean\")"
      ],
      "metadata": {
        "id": "rkLdU7rEo8dZ"
      },
      "execution_count": null,
      "outputs": []
    },
    {
      "cell_type": "markdown",
      "source": [],
      "metadata": {
        "id": "p7I6GKkkq-E8"
      }
    },
    {
      "cell_type": "code",
      "source": [],
      "metadata": {
        "id": "u_xk5Vghq7k3"
      },
      "execution_count": null,
      "outputs": []
    }
  ]
}